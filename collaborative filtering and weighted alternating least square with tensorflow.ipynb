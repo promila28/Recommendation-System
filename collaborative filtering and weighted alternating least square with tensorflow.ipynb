{
 "cells": [
  {
   "cell_type": "markdown",
   "id": "8791dcb1",
   "metadata": {},
   "source": [
    "# Learn about collaborative filtering and weighted alternating least square with tensorflow"
   ]
  },
  {
   "cell_type": "code",
   "execution_count": null,
   "id": "23090d5a",
   "metadata": {},
   "outputs": [],
   "source": [
    "# What you learn\n",
    "\n",
    "# 1. collaborative filtering\n",
    "# 2. Weighted alternating least squares (WALS) method\n",
    "# 3. tensorflow (v1.15.0)"
   ]
  },
  {
   "cell_type": "code",
   "execution_count": null,
   "id": "e15ea2a6",
   "metadata": {},
   "outputs": [],
   "source": [
    "# The data contains movie rating from 943 users for 1682 movies and the ratings \n",
    "# range 1,2,...,5, with average rating of 3.5298. If you predicts all the testing \n",
    "# ratings with this average rating value, the root mean squared error (RMSE) on \n",
    "# testing data is 1.13. If we use the WALS method with various weighting schemes, \n",
    "# after hyperparameter tunings, the optimized RMSE on testing data are:"
   ]
  },
  {
   "cell_type": "code",
   "execution_count": null,
   "id": "020e2e45",
   "metadata": {},
   "outputs": [],
   "source": [
    "# weight type    RMSE on training set     RMSE on test set\n",
    "# baseline        1.12                      1.13\n",
    "# uniform         2.35                      2.51\n",
    "# linear          0.91                      1.01\n",
    "# log             0.87                      0.95"
   ]
  },
  {
   "cell_type": "code",
   "execution_count": 3,
   "id": "c25c77b5",
   "metadata": {},
   "outputs": [
    {
     "name": "stdout",
     "output_type": "stream",
     "text": [
      "1.15.0\n"
     ]
    }
   ],
   "source": [
    "import warnings\n",
    "warnings.filterwarnings('ignore')\n",
    "import pandas as pd \n",
    "import tensorflow as tf\n",
    "import numpy as np\n",
    "from scipy.sparse import coo_matrix\n",
    "from tensorflow.contrib.factorization.python.ops import factorization_ops\n",
    "\n",
    "print(tf.__version__)"
   ]
  },
  {
   "cell_type": "code",
   "execution_count": 4,
   "id": "56c7696c",
   "metadata": {},
   "outputs": [
    {
     "name": "stdout",
     "output_type": "stream",
     "text": [
      "3.6.13\n"
     ]
    }
   ],
   "source": [
    "from platform import python_version\n",
    "\n",
    "print(python_version())"
   ]
  },
  {
   "cell_type": "code",
   "execution_count": null,
   "id": "6cae1d2e",
   "metadata": {},
   "outputs": [],
   "source": [
    "# Data contains 100k ratings from 943 users. In total, there are 1682 items. You see \n",
    "# 93% (1 - 100k/(1682*943)) of the (item, user) pairs are empty (i.e., not rated).\n",
    "# The goal of the recommendation system problem here is to fill these empty cells."
   ]
  },
  {
   "cell_type": "code",
   "execution_count": 5,
   "id": "1c7efd06",
   "metadata": {},
   "outputs": [
    {
     "name": "stdout",
     "output_type": "stream",
     "text": [
      "Total number of users: 943\n",
      "Total number of items: 1682\n",
      "ratings_df.shape = (100000, 4)\n"
     ]
    },
    {
     "data": {
      "text/html": [
       "<div>\n",
       "<style scoped>\n",
       "    .dataframe tbody tr th:only-of-type {\n",
       "        vertical-align: middle;\n",
       "    }\n",
       "\n",
       "    .dataframe tbody tr th {\n",
       "        vertical-align: top;\n",
       "    }\n",
       "\n",
       "    .dataframe thead th {\n",
       "        text-align: right;\n",
       "    }\n",
       "</style>\n",
       "<table border=\"1\" class=\"dataframe\">\n",
       "  <thead>\n",
       "    <tr style=\"text-align: right;\">\n",
       "      <th></th>\n",
       "      <th>user_id</th>\n",
       "      <th>item_id</th>\n",
       "      <th>rating</th>\n",
       "      <th>timestamp</th>\n",
       "    </tr>\n",
       "  </thead>\n",
       "  <tbody>\n",
       "    <tr>\n",
       "      <th>0</th>\n",
       "      <td>196</td>\n",
       "      <td>242</td>\n",
       "      <td>3.0</td>\n",
       "      <td>881250949</td>\n",
       "    </tr>\n",
       "    <tr>\n",
       "      <th>1</th>\n",
       "      <td>186</td>\n",
       "      <td>302</td>\n",
       "      <td>3.0</td>\n",
       "      <td>891717742</td>\n",
       "    </tr>\n",
       "    <tr>\n",
       "      <th>2</th>\n",
       "      <td>22</td>\n",
       "      <td>377</td>\n",
       "      <td>1.0</td>\n",
       "      <td>878887116</td>\n",
       "    </tr>\n",
       "    <tr>\n",
       "      <th>3</th>\n",
       "      <td>244</td>\n",
       "      <td>51</td>\n",
       "      <td>2.0</td>\n",
       "      <td>880606923</td>\n",
       "    </tr>\n",
       "    <tr>\n",
       "      <th>4</th>\n",
       "      <td>166</td>\n",
       "      <td>346</td>\n",
       "      <td>1.0</td>\n",
       "      <td>886397596</td>\n",
       "    </tr>\n",
       "  </tbody>\n",
       "</table>\n",
       "</div>"
      ],
      "text/plain": [
       "   user_id  item_id  rating  timestamp\n",
       "0      196      242     3.0  881250949\n",
       "1      186      302     3.0  891717742\n",
       "2       22      377     1.0  878887116\n",
       "3      244       51     2.0  880606923\n",
       "4      166      346     1.0  886397596"
      ]
     },
     "execution_count": 5,
     "metadata": {},
     "output_type": "execute_result"
    }
   ],
   "source": [
    "input_file = 'u.data.csv'\n",
    "headers = ['user_id', 'item_id', 'rating', 'timestamp']\n",
    "header_row = None\n",
    "ratings_df = pd.read_csv(input_file,\n",
    "                         sep='\\t',\n",
    "                         names=headers,\n",
    "                         header=header_row,\n",
    "                         dtype={\n",
    "                           'user_id': np.int32,\n",
    "                           'item_id': np.int32,\n",
    "                           'rating': np.float32,\n",
    "                           'timestamp': np.int32,\n",
    "                         })\n",
    "\n",
    "\n",
    "def n_unique(colnm):\n",
    "    n = len(np.unique(ratings_df[colnm]))\n",
    "    return(n)\n",
    "n_users = n_unique(\"user_id\")    \n",
    "n_items = n_unique(\"item_id\")   \n",
    "print(\"Total number of users:\",n_users)\n",
    "print(\"Total number of items:\",n_items)\n",
    "\n",
    "print(\"ratings_df.shape =\",ratings_df.shape)\n",
    "ratings_df.head()"
   ]
  },
  {
   "cell_type": "code",
   "execution_count": null,
   "id": "566da0f5",
   "metadata": {},
   "outputs": [],
   "source": [
    "# The number of ratings per users and the number of ratings per items both have \n",
    "# highly skewed distribution. Most of the users rate movies less than 100 times. \n",
    "# Most of the items have less than 100 ratings. You will see later that the \n",
    "# weights on the WALS algorithm essentiallily controls this skewed distribution \n",
    "# by weighting each item (or user) differently, based on the frequency of the \n",
    "# rating per item (per user)."
   ]
  },
  {
   "cell_type": "code",
   "execution_count": 6,
   "id": "cbec9aff",
   "metadata": {},
   "outputs": [
    {
     "data": {
      "text/plain": [
       "user_id      0\n",
       "item_id      0\n",
       "rating       0\n",
       "timestamp    0\n",
       "dtype: int64"
      ]
     },
     "execution_count": 6,
     "metadata": {},
     "output_type": "execute_result"
    }
   ],
   "source": [
    "ratings_df.isnull().sum()"
   ]
  },
  {
   "cell_type": "code",
   "execution_count": 9,
   "id": "f830460b",
   "metadata": {},
   "outputs": [
    {
     "data": {
      "image/png": "[encoded data removed]",
      "text/plain": [
       "<Figure size 1080x288 with 2 Axes>"
      ]
     },
     "metadata": {
      "needs_background": "light"
     },
     "output_type": "display_data"
    }
   ],
   "source": [
    "import matplotlib.pyplot as plt\n",
    "\n",
    "fig, ax = plt.subplots(1,2,figsize=(15,4))\n",
    "ratings_df.groupby(\"user_id\").count()[\"item_id\"].hist(bins=100,ax=ax[0])\n",
    "_ = ax[0].set_title(\"Histogram of the number of rating / user\")\n",
    "\n",
    "ratings_df.groupby(\"item_id\").count()[\"user_id\"].hist(bins=100,ax=ax[1])\n",
    "_ = ax[1].set_title(\"Histogram of the number of rating / item\")"
   ]
  },
  {
   "cell_type": "code",
   "execution_count": 10,
   "id": "24236ddb",
   "metadata": {},
   "outputs": [
    {
     "data": {
      "text/html": [
       "<div>\n",
       "<style scoped>\n",
       "    .dataframe tbody tr th:only-of-type {\n",
       "        vertical-align: middle;\n",
       "    }\n",
       "\n",
       "    .dataframe tbody tr th {\n",
       "        vertical-align: top;\n",
       "    }\n",
       "\n",
       "    .dataframe thead th {\n",
       "        text-align: right;\n",
       "    }\n",
       "</style>\n",
       "<table border=\"1\" class=\"dataframe\">\n",
       "  <thead>\n",
       "    <tr style=\"text-align: right;\">\n",
       "      <th></th>\n",
       "      <th>user_id</th>\n",
       "      <th>item_id</th>\n",
       "      <th>rating</th>\n",
       "      <th>timestamp</th>\n",
       "    </tr>\n",
       "  </thead>\n",
       "  <tbody>\n",
       "    <tr>\n",
       "      <th>count</th>\n",
       "      <td>100000.00000</td>\n",
       "      <td>100000.000000</td>\n",
       "      <td>100000.000000</td>\n",
       "      <td>1.000000e+05</td>\n",
       "    </tr>\n",
       "    <tr>\n",
       "      <th>mean</th>\n",
       "      <td>462.48475</td>\n",
       "      <td>425.530130</td>\n",
       "      <td>3.529860</td>\n",
       "      <td>8.835289e+08</td>\n",
       "    </tr>\n",
       "    <tr>\n",
       "      <th>std</th>\n",
       "      <td>266.61442</td>\n",
       "      <td>330.798356</td>\n",
       "      <td>1.125674</td>\n",
       "      <td>5.343856e+06</td>\n",
       "    </tr>\n",
       "    <tr>\n",
       "      <th>min</th>\n",
       "      <td>1.00000</td>\n",
       "      <td>1.000000</td>\n",
       "      <td>1.000000</td>\n",
       "      <td>8.747247e+08</td>\n",
       "    </tr>\n",
       "    <tr>\n",
       "      <th>25%</th>\n",
       "      <td>254.00000</td>\n",
       "      <td>175.000000</td>\n",
       "      <td>3.000000</td>\n",
       "      <td>8.794487e+08</td>\n",
       "    </tr>\n",
       "    <tr>\n",
       "      <th>50%</th>\n",
       "      <td>447.00000</td>\n",
       "      <td>322.000000</td>\n",
       "      <td>4.000000</td>\n",
       "      <td>8.828269e+08</td>\n",
       "    </tr>\n",
       "    <tr>\n",
       "      <th>75%</th>\n",
       "      <td>682.00000</td>\n",
       "      <td>631.000000</td>\n",
       "      <td>4.000000</td>\n",
       "      <td>8.882600e+08</td>\n",
       "    </tr>\n",
       "    <tr>\n",
       "      <th>max</th>\n",
       "      <td>943.00000</td>\n",
       "      <td>1682.000000</td>\n",
       "      <td>5.000000</td>\n",
       "      <td>8.932866e+08</td>\n",
       "    </tr>\n",
       "  </tbody>\n",
       "</table>\n",
       "</div>"
      ],
      "text/plain": [
       "            user_id        item_id         rating     timestamp\n",
       "count  100000.00000  100000.000000  100000.000000  1.000000e+05\n",
       "mean      462.48475     425.530130       3.529860  8.835289e+08\n",
       "std       266.61442     330.798356       1.125674  5.343856e+06\n",
       "min         1.00000       1.000000       1.000000  8.747247e+08\n",
       "25%       254.00000     175.000000       3.000000  8.794487e+08\n",
       "50%       447.00000     322.000000       4.000000  8.828269e+08\n",
       "75%       682.00000     631.000000       4.000000  8.882600e+08\n",
       "max       943.00000    1682.000000       5.000000  8.932866e+08"
      ]
     },
     "execution_count": 10,
     "metadata": {},
     "output_type": "execute_result"
    }
   ],
   "source": [
    " ratings_df.describe()"
   ]
  },
  {
   "cell_type": "code",
   "execution_count": null,
   "id": "881ec64a",
   "metadata": {},
   "outputs": [],
   "source": [
    "# Normalize user_id and item_id so that the indexing starts at 0"
   ]
  },
  {
   "cell_type": "code",
   "execution_count": 11,
   "id": "2866efb6",
   "metadata": {},
   "outputs": [
    {
     "name": "stdout",
     "output_type": "stream",
     "text": [
      "(100000, 3) float64\n",
      "start indexing at: 0.0 end indexint at: 942.0\n",
      "start indexing at: 0.0 end indexint at: 1681.0\n"
     ]
    }
   ],
   "source": [
    "ratings = ratings_df[['user_id', 'item_id', 'rating']].values\n",
    "ratings[:,0] -= 1\n",
    "ratings[:,1] -= 1\n",
    "print(ratings.shape,ratings.dtype)\n",
    "for i in [0,1]:\n",
    "    print(\"start indexing at:\",np.min(ratings[:,i]),\"end indexint at:\",np.max(ratings[:,i]))"
   ]
  },
  {
   "cell_type": "code",
   "execution_count": 12,
   "id": "2f51909d",
   "metadata": {},
   "outputs": [
    {
     "name": "stdout",
     "output_type": "stream",
     "text": [
      "(100000, 3) float64\n"
     ]
    }
   ],
   "source": [
    "print(ratings.shape,ratings.dtype)"
   ]
  },
  {
   "cell_type": "code",
   "execution_count": null,
   "id": "750a5eb9",
   "metadata": {},
   "outputs": [],
   "source": [
    "# Split between training and testing data"
   ]
  },
  {
   "cell_type": "code",
   "execution_count": 13,
   "id": "3c8fa848",
   "metadata": {},
   "outputs": [
    {
     "name": "stdout",
     "output_type": "stream",
     "text": [
      "(100000, 3) 0.0 943 1682\n",
      "sparse matrix dimension: (943, 1682) (90000,) (90000,) 1.0\n",
      "sparse matrix dimension: (943, 1682) (10000,) (10000,)\n"
     ]
    }
   ],
   "source": [
    "def _create_sparse_train_and_test(ratings, n_users, n_items):\n",
    "    \"\"\"Given ratings, create sparse matrices for train and test sets.\n",
    "    Args:\n",
    "      ratings:  list of ratings tuples  (u, i, r)\n",
    "      n_users:  number of users\n",
    "      n_items:  number of items\n",
    "    Returns:\n",
    "       train, test sparse matrices in scipy coo_matrix format.\n",
    "       \n",
    "    original extracted from: \n",
    "    https://github.com/GoogleCloudPlatform/tensorflow-recommendation-wals/blob/master/wals_ml_engine/trainer/model.py#L218\n",
    "    \"\"\"\n",
    "    print(ratings.shape,ratings.min(),n_users,n_items)\n",
    "    # pick a random test set of entries, sorted ascending\n",
    "    test_set_size = int(len(ratings) * TEST_SET_RATIO)\n",
    "    np.random.seed(1)\n",
    "    test_set_idx = np.random.choice(range(len(ratings)),\n",
    "                                    size=test_set_size, replace=False)\n",
    "    test_set_idx = sorted(test_set_idx)\n",
    "\n",
    "    # sift ratings into train and test sets\n",
    "    ts_ratings = ratings[test_set_idx]\n",
    "    tr_ratings = np.delete(ratings, test_set_idx, axis=0)\n",
    "    \n",
    "    # create training and test matrices as coo_matrix's\n",
    "    u_tr, i_tr, r_tr = zip(*tr_ratings)\n",
    "    tr_sparse = coo_matrix((r_tr, (u_tr, i_tr)), shape=(n_users, n_items))\n",
    "\n",
    "    u_ts, i_ts, r_ts = zip(*ts_ratings)\n",
    "    test_sparse = coo_matrix((r_ts, (u_ts, i_ts)), shape=(n_users, n_items))\n",
    "\n",
    "    return tr_sparse, test_sparse\n",
    "\n",
    "## 10% of the data will be test set.\n",
    "TEST_SET_RATIO = 0.1\n",
    "tr_sparse, test_sparse = _create_sparse_train_and_test(ratings, n_users, n_items)\n",
    "\n",
    "print(\"sparse matrix dimension:\",tr_sparse.shape,tr_sparse.row.shape,tr_sparse.col.shape,tr_sparse.data.min())\n",
    "print(\"sparse matrix dimension:\",test_sparse.shape,test_sparse.row.shape,test_sparse.col.shape)"
   ]
  },
  {
   "cell_type": "code",
   "execution_count": 14,
   "id": "ab1efb26",
   "metadata": {},
   "outputs": [],
   "source": [
    "def make_wts(data, wt_type, obs_wt, feature_wt_exp, axis):\n",
    "    \"\"\"Generate observed item weights.\n",
    "      Args:\n",
    "        data:             coo_matrix of ratings data\n",
    "        wt_type:          weight type, LOG_RATINGS or LINEAR_RATINGS\n",
    "        obs_wt:           linear weight factor\n",
    "        feature_wt_exp:   logarithmic weight factor\n",
    "        axis:             axis to make weights for, 1=rows/users, 0=cols/items\n",
    "      Returns:\n",
    "        vector of weights for cols (items) or rows (users)\n",
    "    \"\"\"\n",
    "    assert wt_type in [\"LOG_RATINGS\",\"LINEAR_RATINGS\"]\n",
    "    # recipricol of sum of number of items across rows (if axis is 0)\n",
    "    frac = np.array(1.0/(data > 0.0).sum(axis))\n",
    "    \n",
    "    # filter any invalid entries\n",
    "    frac[np.ma.masked_invalid(frac).mask] = 0.0\n",
    "    \n",
    "    # normalize weights according to assumed distribution of ratings\n",
    "    if wt_type == \"LOG_RATINGS\":\n",
    "        wts = np.array(np.power(frac, feature_wt_exp)).flatten()\n",
    "    elif wt_type == \"LINEAR_RATINGS\":\n",
    "        wts = np.array(obs_wt * frac).flatten()\n",
    "    \n",
    "    # check again for any numerically unstable entries\n",
    "    assert np.isfinite(wts).sum() == wts.shape[0]\n",
    "    return wts"
   ]
  },
  {
   "cell_type": "code",
   "execution_count": 15,
   "id": "3e1b5770",
   "metadata": {},
   "outputs": [
    {
     "name": "stdout",
     "output_type": "stream",
     "text": [
      "(1682,)\n"
     ]
    },
    {
     "data": {
      "image/png": "[encoded data removed]",
      "text/plain": [
       "<Figure size 720x216 with 2 Axes>"
      ]
     },
     "metadata": {
      "needs_background": "light"
     },
     "output_type": "display_data"
    },
    {
     "data": {
      "image/png": "[encoded data removed]",
      "text/plain": [
       "<Figure size 720x216 with 2 Axes>"
      ]
     },
     "metadata": {
      "needs_background": "light"
     },
     "output_type": "display_data"
    }
   ],
   "source": [
    "n_nonzero_items = np.array((tr_sparse > 0).sum(axis=0)).squeeze()\n",
    "print(n_nonzero_items.shape)\n",
    "\n",
    "\n",
    "def plot(col_wt,n_nonzero_items,title):\n",
    "    fig, ax = plt.subplots(1,2,figsize=(10,3))\n",
    "    ax[0].plot(col_wt,\"p\")\n",
    "    ax[0].set_xlabel(\"item index\")\n",
    "    ax[0].set_ylabel(\"weights\")\n",
    "    ax[1].plot(n_nonzero_items,col_wt,\"p\")\n",
    "    ax[1].set_xlabel(\"tot N of rating / item\")\n",
    "    ax[1].set_ylabel(\"weights\")\n",
    "    plt.suptitle(title)\n",
    "    plt.show()\n",
    "    \n",
    "for wt_type in [\"LOG_RATINGS\",\"LINEAR_RATINGS\"]:    \n",
    "    col_wt = make_wts(tr_sparse, wt_type, obs_wt=189.8, feature_wt_exp=0.008, axis=0)\n",
    "    plot(col_wt,n_nonzero_items,title=wt_type)"
   ]
  },
  {
   "cell_type": "code",
   "execution_count": 16,
   "id": "f65e012f",
   "metadata": {},
   "outputs": [],
   "source": [
    "def define_graph(data,PARAMS):\n",
    "    graph = tf.Graph()\n",
    "    with graph.as_default():\n",
    "\n",
    "        input_tensor = tf.SparseTensor(indices=np.array([data.row, data.col]).T,\n",
    "                                       values=(data.data).astype(np.float32),\n",
    "                                       dense_shape=data.shape)\n",
    "\n",
    "\n",
    "        row_wts = None\n",
    "        col_wts = None\n",
    "        num_rows = data.shape[0]\n",
    "        num_cols = data.shape[1]\n",
    "\n",
    "        # initialize the weights \n",
    "        if PARAMS[\"wt_type\"] in [\"LOG_RATINGS\",\"LINEAR_RATINGS\"]:\n",
    "            row_wts = np.ones(num_rows)\n",
    "            col_wts = make_wts(data, \n",
    "                               PARAMS[\"wt_type\"], \n",
    "                               PARAMS['feature_wt_factor'],\n",
    "                               PARAMS['feature_wt_exp'],axis=0)\n",
    "\n",
    "        model = factorization_ops.WALSModel(num_rows, num_cols, PARAMS[\"latent_factors\"],\n",
    "                                            unobserved_weight=PARAMS[\"unobs_weight\"],\n",
    "                                            regularization=PARAMS[\"regularization\"],\n",
    "                                            row_weights=row_wts,\n",
    "                                            col_weights=col_wts)\n",
    "\n",
    "        return(graph,model,input_tensor)"
   ]
  },
  {
   "cell_type": "code",
   "execution_count": 17,
   "id": "51aa172e",
   "metadata": {},
   "outputs": [],
   "source": [
    "def train(graph,model,input_tensor,verbose=False):\n",
    "    sess = tf.Session(graph=graph)\n",
    "    with graph.as_default():\n",
    "        row_update_op = model.update_row_factors(sp_input=input_tensor)[1]\n",
    "        col_update_op = model.update_col_factors(sp_input=input_tensor)[1]\n",
    "\n",
    "        sess.run(model.initialize_op)\n",
    "        sess.run(model.worker_init)\n",
    "        for i in range(num_iterations):\n",
    "            sess.run(model.row_update_prep_gramian_op)\n",
    "            sess.run(model.initialize_row_update_op)\n",
    "            sess.run(row_update_op)\n",
    "            sess.run(model.col_update_prep_gramian_op)\n",
    "            sess.run(model.initialize_col_update_op)\n",
    "            sess.run(col_update_op)\n",
    "            if verbose and i % 1 == 0:\n",
    "                rf = sess.run(row_factor)\n",
    "                print(\"iter\",i,rf.mean(),rf.min(),sess.run(col_factor).mean())\n",
    "    return sess \n",
    "\n",
    "import math\n",
    "def get_rmse(output_row, output_col, actual):\n",
    "        \"\"\"Compute rmse between predicted and actual ratings.\n",
    "        Args:\n",
    "          output_row: evaluated numpy array of row_factor\n",
    "          output_col: evaluated numpy array of col_factor\n",
    "          actual: coo_matrix of actual (test) values\n",
    "        Returns:\n",
    "          rmse\n",
    "        \"\"\"\n",
    "        mse = 0\n",
    "        rate_preds = []\n",
    "        for i in range(actual.data.shape[0]):\n",
    "            row_pred = output_row[actual.row[i]]\n",
    "            col_pred = output_col[actual.col[i]]\n",
    "            rate_pred = np.dot(row_pred, col_pred)\n",
    "            rate_preds.append(rate_pred)\n",
    "            err = actual.data[i] - rate_pred\n",
    "            mse += err * err\n",
    "        mse /= actual.data.shape[0]\n",
    "        rmse = math.sqrt(mse)\n",
    "        return rmse,rate_preds"
   ]
  },
  {
   "cell_type": "code",
   "execution_count": 18,
   "id": "f21e4113",
   "metadata": {},
   "outputs": [],
   "source": [
    "PARAMS = {\n",
    "    'regularization': 0.01,\n",
    "    'unobs_weight': .001,  \n",
    "    'feature_wt_factor': 189.8,\n",
    "    'feature_wt_exp': 0.08,\n",
    "}"
   ]
  },
  {
   "cell_type": "code",
   "execution_count": 19,
   "id": "5b240bff",
   "metadata": {},
   "outputs": [
    {
     "name": "stdout",
     "output_type": "stream",
     "text": [
      "UNIFORM\n",
      "           latent factor   1, reg   0.0, rmse (train)  2.87, rmse (test)  2.89\n",
      "           latent factor   1, reg   0.1, rmse (train)  2.87, rmse (test)  2.88\n",
      "           latent factor   1, reg   5.0, rmse (train)  2.87, rmse (test)  2.89\n",
      "           latent factor   1, reg  20.0, rmse (train)  2.87, rmse (test)  2.89\n",
      "           latent factor   1, reg 100.0, rmse (train)  2.87, rmse (test)  2.89\n",
      "           latent factor   2, reg   0.0, rmse (train)  2.75, rmse (test)  2.78\n",
      "           latent factor   2, reg   0.1, rmse (train)  2.75, rmse (test)  2.78\n",
      "           latent factor   2, reg   5.0, rmse (train)  2.75, rmse (test)  2.77\n",
      "           latent factor   2, reg  20.0, rmse (train)  2.75, rmse (test)  2.78\n",
      "           latent factor   2, reg 100.0, rmse (train)  2.75, rmse (test)  2.78\n",
      "           latent factor   5, reg   0.0, rmse (train)  2.57, rmse (test)  2.62\n",
      "           latent factor   5, reg   0.1, rmse (train)  2.57, rmse (test)  2.62\n",
      "           latent factor   5, reg   5.0, rmse (train)  2.56, rmse (test)  2.61\n",
      "           latent factor   5, reg  20.0, rmse (train)  2.57, rmse (test)  2.62\n",
      "           latent factor   5, reg 100.0, rmse (train)  2.57, rmse (test)  2.62\n",
      "           latent factor  15, reg   0.0, rmse (train)  2.35, rmse (test)  2.51\n",
      "           latent factor  15, reg   0.1, rmse (train)  2.35, rmse (test)  2.51\n",
      "           latent factor  15, reg   5.0, rmse (train)  2.35, rmse (test)  2.51\n",
      "           latent factor  15, reg  20.0, rmse (train)  2.36, rmse (test)  2.52\n",
      "           latent factor  15, reg 100.0, rmse (train)  2.36, rmse (test)  2.52\n",
      "LINEAR_RATINGS\n",
      "           latent factor   1, reg   0.0, rmse (train)  1.19, rmse (test)  1.26\n",
      "           latent factor   1, reg   0.1, rmse (train)  1.28, rmse (test)  1.51\n",
      "           latent factor   1, reg   5.0, rmse (train)  1.26, rmse (test)  1.43\n",
      "           latent factor   1, reg  20.0, rmse (train)  1.14, rmse (test)  1.30\n",
      "           latent factor   1, reg 100.0, rmse (train)  1.18, rmse (test)  1.37\n",
      "           latent factor   2, reg   0.0, rmse (train)  0.90, rmse (test)  1.00\n",
      "           latent factor   2, reg   0.1, rmse (train)  0.91, rmse (test)  1.01\n",
      "           latent factor   2, reg   5.0, rmse (train)  0.92, rmse (test)  1.04\n",
      "           latent factor   2, reg  20.0, rmse (train)  0.91, rmse (test)  1.07\n",
      "           latent factor   2, reg 100.0, rmse (train)  0.92, rmse (test)  1.11\n",
      "           latent factor   5, reg   0.0, rmse (train)  0.82, rmse (test)  1.06\n",
      "           latent factor   5, reg   0.1, rmse (train)  0.81, rmse (test)  1.06\n",
      "           latent factor   5, reg   5.0, rmse (train)  0.82, rmse (test)  1.07\n",
      "           latent factor   5, reg  20.0, rmse (train)  0.82, rmse (test)  1.05\n",
      "           latent factor   5, reg 100.0, rmse (train)  0.81, rmse (test)  1.10\n",
      "           latent factor  15, reg   0.0, rmse (train)  0.64, rmse (test)  1.32\n",
      "           latent factor  15, reg   0.1, rmse (train)  0.64, rmse (test)  1.30\n",
      "           latent factor  15, reg   5.0, rmse (train)  0.64, rmse (test)  1.34\n",
      "           latent factor  15, reg  20.0, rmse (train)  0.64, rmse (test)  1.31\n",
      "           latent factor  15, reg 100.0, rmse (train)  0.64, rmse (test)  1.32\n",
      "LOG_RATINGS\n",
      "           latent factor   1, reg   0.0, rmse (train)  0.93, rmse (test)  0.96\n",
      "           latent factor   1, reg   0.1, rmse (train)  0.93, rmse (test)  0.96\n",
      "           latent factor   1, reg   5.0, rmse (train)  0.93, rmse (test)  0.96\n",
      "           latent factor   1, reg  20.0, rmse (train)  0.93, rmse (test)  0.96\n",
      "           latent factor   1, reg 100.0, rmse (train)  0.93, rmse (test)  0.96\n",
      "           latent factor   2, reg   0.0, rmse (train)  0.87, rmse (test)  0.95\n",
      "           latent factor   2, reg   0.1, rmse (train)  0.88, rmse (test)  0.95\n",
      "           latent factor   2, reg   5.0, rmse (train)  0.87, rmse (test)  0.95\n",
      "           latent factor   2, reg  20.0, rmse (train)  0.88, rmse (test)  0.95\n",
      "           latent factor   2, reg 100.0, rmse (train)  0.87, rmse (test)  0.95\n",
      "           latent factor   5, reg   0.0, rmse (train)  0.80, rmse (test)  0.99\n",
      "           latent factor   5, reg   0.1, rmse (train)  0.80, rmse (test)  1.00\n",
      "           latent factor   5, reg   5.0, rmse (train)  0.80, rmse (test)  0.99\n",
      "           latent factor   5, reg  20.0, rmse (train)  0.80, rmse (test)  0.99\n",
      "           latent factor   5, reg 100.0, rmse (train)  0.80, rmse (test)  1.00\n",
      "           latent factor  15, reg   0.0, rmse (train)  0.60, rmse (test)  1.23\n",
      "           latent factor  15, reg   0.1, rmse (train)  0.60, rmse (test)  1.22\n",
      "           latent factor  15, reg   5.0, rmse (train)  0.60, rmse (test)  1.21\n",
      "           latent factor  15, reg  20.0, rmse (train)  0.60, rmse (test)  1.20\n",
      "           latent factor  15, reg 100.0, rmse (train)  0.60, rmse (test)  1.20\n"
     ]
    }
   ],
   "source": [
    "latent_factors  = [1,  2,   5, 15]\n",
    "regularizations = [0.001,0.1,  5, 20,100]\n",
    "wt_types = [\"UNIFORM\",\"LINEAR_RATINGS\",\"LOG_RATINGS\"]\n",
    "rmse_best = np.Inf\n",
    "num_iterations = 40\n",
    "for wt_type in wt_types:\n",
    "    print(wt_type)\n",
    "    for lf in latent_factors:\n",
    "        for r in regularizations:\n",
    "            PARAMS[\"wt_type\"] = wt_type\n",
    "            PARAMS[\"latent_factors\"] = lf\n",
    "            PARAMS[\"regularizations\"] = r\n",
    "\n",
    "            graph,model,input_tensor = define_graph(tr_sparse,PARAMS)\n",
    "            sess = train(graph,model,input_tensor)\n",
    "\n",
    "            output_row = model.row_factors[0].eval(session=sess)\n",
    "            output_col = model.col_factors[0].eval(session=sess)        \n",
    "\n",
    "            rmse_train, _ = get_rmse(output_row, output_col, tr_sparse)\n",
    "            rmse_test, rate_preds_test = get_rmse(output_row, output_col, test_sparse)\n",
    "            print(\"{:10} latent factor {:3.0f}, reg {:5.1f}, rmse (train) {:5.2f}, rmse (test) {:5.2f}\".format(\" \",\n",
    "                                                                                                               lf,\n",
    "                                                                                                               r,\n",
    "                                                                                                               rmse_train,\n",
    "                                                                                                               rmse_test))\n",
    "            if rmse_test < rmse_best:\n",
    "                rmse_best = rmse_test\n",
    "                out = {\n",
    "                      \"rate_preds_test\":rate_preds_test,\n",
    "                      \"rmse\":rmse_test,\n",
    "                      \"output_row\":output_row,\n",
    "                      \"output_col\":output_col,\n",
    "                      \"params\": PARAMS\n",
    "                      }\n",
    "                "
   ]
  },
  {
   "cell_type": "code",
   "execution_count": 20,
   "id": "53dce84b",
   "metadata": {},
   "outputs": [
    {
     "data": {
      "text/plain": [
       "{'regularization': 0.01,\n",
       " 'unobs_weight': 0.001,\n",
       " 'feature_wt_factor': 189.8,\n",
       " 'feature_wt_exp': 0.08,\n",
       " 'wt_type': 'LOG_RATINGS',\n",
       " 'latent_factors': 15,\n",
       " 'regularizations': 100}"
      ]
     },
     "execution_count": 20,
     "metadata": {},
     "output_type": "execute_result"
    }
   ],
   "source": [
    "out[\"params\"]"
   ]
  },
  {
   "cell_type": "code",
   "execution_count": 21,
   "id": "1d71bba4",
   "metadata": {},
   "outputs": [
    {
     "data": {
      "image/png": "[encoded data removed]",
      "text/plain": [
       "<Figure size 432x288 with 1 Axes>"
      ]
     },
     "metadata": {
      "needs_background": "light"
     },
     "output_type": "display_data"
    }
   ],
   "source": [
    "plt.plot(out[\"rate_preds_test\"],test_sparse.data,\"p\",alpha=0.1)\n",
    "plt.xlabel(\"predicted\")\n",
    "plt.ylabel(\"gt\")\n",
    "plt.show()"
   ]
  },
  {
   "cell_type": "code",
   "execution_count": null,
   "id": "7775bd16",
   "metadata": {},
   "outputs": [],
   "source": []
  },
  {
   "cell_type": "code",
   "execution_count": null,
   "id": "3a0624b1",
   "metadata": {},
   "outputs": [],
   "source": []
  }
 ],
 "metadata": {
  "kernelspec": {
   "display_name": "Python [conda env:myenvCol] *",
   "language": "python",
   "name": "conda-env-myenvCol-py"
  },
  "language_info": {
   "codemirror_mode": {
    "name": "ipython",
    "version": 3
   },
   "file_extension": ".py",
   "mimetype": "text/x-python",
   "name": "python",
   "nbconvert_exporter": "python",
   "pygments_lexer": "ipython3",
   "version": "3.6.13"
  }
 },
 "nbformat": 4,
 "nbformat_minor": 5
}
